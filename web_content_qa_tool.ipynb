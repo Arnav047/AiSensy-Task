{
  "nbformat": 4,
  "nbformat_minor": 0,
  "metadata": {
    "colab": {
      "provenance": []
    },
    "kernelspec": {
      "name": "python3",
      "display_name": "Python 3"
    },
    "language_info": {
      "name": "python"
    }
  },
  "cells": [
    {
      "cell_type": "code",
      "execution_count": 6,
      "metadata": {
        "colab": {
          "base_uri": "https://localhost:8080/"
        },
        "id": "aW-gt2WqPOh2",
        "outputId": "b13deb5d-4194-4d3e-cd0e-9287228d4eae"
      },
      "outputs": [
        {
          "output_type": "stream",
          "name": "stderr",
          "text": [
            "2025-02-25 04:19:03.408 Thread 'MainThread': missing ScriptRunContext! This warning can be ignored when running in bare mode.\n",
            "2025-02-25 04:19:03.410 Thread 'MainThread': missing ScriptRunContext! This warning can be ignored when running in bare mode.\n",
            "2025-02-25 04:19:03.412 Thread 'MainThread': missing ScriptRunContext! This warning can be ignored when running in bare mode.\n",
            "2025-02-25 04:19:03.415 Thread 'MainThread': missing ScriptRunContext! This warning can be ignored when running in bare mode.\n",
            "2025-02-25 04:19:03.416 Thread 'MainThread': missing ScriptRunContext! This warning can be ignored when running in bare mode.\n",
            "2025-02-25 04:19:03.417 Thread 'MainThread': missing ScriptRunContext! This warning can be ignored when running in bare mode.\n",
            "2025-02-25 04:19:03.418 Thread 'MainThread': missing ScriptRunContext! This warning can be ignored when running in bare mode.\n",
            "2025-02-25 04:19:03.419 Thread 'MainThread': missing ScriptRunContext! This warning can be ignored when running in bare mode.\n",
            "2025-02-25 04:19:03.420 Thread 'MainThread': missing ScriptRunContext! This warning can be ignored when running in bare mode.\n",
            "2025-02-25 04:19:03.423 Thread 'MainThread': missing ScriptRunContext! This warning can be ignored when running in bare mode.\n",
            "2025-02-25 04:19:03.423 Thread 'MainThread': missing ScriptRunContext! This warning can be ignored when running in bare mode.\n",
            "2025-02-25 04:19:03.425 Thread 'MainThread': missing ScriptRunContext! This warning can be ignored when running in bare mode.\n",
            "2025-02-25 04:19:03.426 Thread 'MainThread': missing ScriptRunContext! This warning can be ignored when running in bare mode.\n",
            "2025-02-25 04:19:03.429 Thread 'MainThread': missing ScriptRunContext! This warning can be ignored when running in bare mode.\n",
            "2025-02-25 04:19:03.430 Thread 'MainThread': missing ScriptRunContext! This warning can be ignored when running in bare mode.\n",
            "2025-02-25 04:19:03.431 Thread 'MainThread': missing ScriptRunContext! This warning can be ignored when running in bare mode.\n",
            "2025-02-25 04:19:03.432 Thread 'MainThread': missing ScriptRunContext! This warning can be ignored when running in bare mode.\n",
            "2025-02-25 04:19:03.433 Thread 'MainThread': missing ScriptRunContext! This warning can be ignored when running in bare mode.\n",
            "2025-02-25 04:19:03.434 Thread 'MainThread': missing ScriptRunContext! This warning can be ignored when running in bare mode.\n",
            "2025-02-25 04:19:03.436 Thread 'MainThread': missing ScriptRunContext! This warning can be ignored when running in bare mode.\n",
            "2025-02-25 04:19:03.441 Thread 'MainThread': missing ScriptRunContext! This warning can be ignored when running in bare mode.\n",
            "2025-02-25 04:19:03.442 Thread 'MainThread': missing ScriptRunContext! This warning can be ignored when running in bare mode.\n",
            "2025-02-25 04:19:03.443 Thread 'MainThread': missing ScriptRunContext! This warning can be ignored when running in bare mode.\n",
            "2025-02-25 04:19:03.444 Thread 'MainThread': missing ScriptRunContext! This warning can be ignored when running in bare mode.\n",
            "2025-02-25 04:19:03.444 Thread 'MainThread': missing ScriptRunContext! This warning can be ignored when running in bare mode.\n"
          ]
        }
      ],
      "source": [
        "import streamlit as st\n",
        "import requests\n",
        "from bs4 import BeautifulSoup\n",
        "\n",
        "if 'content_store' not in st.session_state:\n",
        "    st.session_state.content_store = ''\n",
        "\n",
        "st.title('Web Content Q&A Tool')\n",
        "\n",
        "urls = st.text_area('Enter URLs (comma-separated)')\n",
        "if st.button('Ingest Content'):\n",
        "    st.session_state.content_store = ''\n",
        "    url_list = urls.split(',')\n",
        "\n",
        "    for url in url_list:\n",
        "        try:\n",
        "            response = requests.get(url.strip())\n",
        "            soup = BeautifulSoup(response.content, 'html.parser')\n",
        "            st.session_state.content_store += soup.get_text(separator=' ', strip=True) + ' '\n",
        "        except Exception as e:\n",
        "            st.error(f'Failed to fetch {url}: {str(e)}')\n",
        "    st.success('Content ingested successfully')\n",
        "\n",
        "question = st.text_input('Ask a question about the content')\n",
        "if st.button('Get Answer'):\n",
        "    if not st.session_state.content_store:\n",
        "        st.warning('No content available. Please ingest URLs first.')\n",
        "    else:\n",
        "        if question.lower() in st.session_state.content_store.lower():\n",
        "            start = st.session_state.content_store.lower().find(question.lower())\n",
        "            end = min(start + 300, len(st.session_state.content_store))\n",
        "            st.write(st.session_state.content_store[start:end])\n",
        "        else:\n",
        "            st.write('No relevant information found.')\n"
      ]
    },
    {
      "cell_type": "code",
      "source": [],
      "metadata": {
        "id": "bVlpyJW5PueW"
      },
      "execution_count": null,
      "outputs": []
    }
  ]
}